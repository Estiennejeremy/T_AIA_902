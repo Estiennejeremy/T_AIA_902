{
 "cells": [
  {
   "cell_type": "code",
   "execution_count": 1,
   "metadata": {},
   "outputs": [
    {
     "name": "stderr",
     "output_type": "stream",
     "text": [
      "\n"
     ]
    }
   ],
   "source": [
    "import gym\n",
    "import numpy as np"
   ]
  },
  {
   "cell_type": "code",
   "execution_count": 2,
   "metadata": {},
   "outputs": [],
   "source": [
    "def new_episode():\n",
    "    env.reset()\n",
    "    global victory\n",
    "    global steps\n",
    "    step = 0\n",
    "    while(True):\n",
    "        step += 1\n",
    "        random_action = env.action_space.sample()\n",
    "        new_state, reward, done, info = env.step(random_action)\n",
    "        # env.render()\n",
    "        if done:\n",
    "            if reward == 1:\n",
    "                victory += 1\n",
    "                steps.append(step)\n",
    "            # return victory\n",
    "            break\n",
    "    env.close()"
   ]
  },
  {
   "cell_type": "code",
   "execution_count": 3,
   "metadata": {},
   "outputs": [],
   "source": [
    "max_iterations = 10000\n",
    "victory = 0\n",
    "steps = []\n",
    "\n",
    "env = gym.make(\"FrozenLake-v1\",is_slippery=True)\n",
    "            \n",
    "for i in range(max_iterations):\n",
    "   new_episode()\n",
    "\n",
    "random_result = victory / max_iterations"
   ]
  },
  {
   "cell_type": "code",
   "execution_count": 4,
   "metadata": {},
   "outputs": [
    {
     "name": "stdout",
     "output_type": "stream",
     "text": [
      "Pourcentage de réussite en mode random :  1.4200000000000002 %\n",
      "Nombre median de pas pour arriver au but :  12.0\n",
      "Nombre moyen de pas pour arriver au but :  13.274647887323944\n"
     ]
    }
   ],
   "source": [
    "print(\"Pourcentage de réussite en mode random : \", random_result * 100, \"%\")\n",
    "print(\"Nombre median de pas pour arriver au but : \",np.median(steps))\n",
    "print(\"Nombre moyen de pas pour arriver au but : \",np.mean(steps))"
   ]
  }
 ],
 "metadata": {
  "interpreter": {
   "hash": "916dbcbb3f70747c44a77c7bcd40155683ae19c65e1c03b4aa3499c5328201f1"
  },
  "kernelspec": {
   "display_name": "Python 3.8.10 64-bit",
   "language": "python",
   "name": "python3"
  },
  "language_info": {
   "codemirror_mode": {
    "name": "ipython",
    "version": 3
   },
   "file_extension": ".py",
   "mimetype": "text/x-python",
   "name": "python",
   "nbconvert_exporter": "python",
   "pygments_lexer": "ipython3",
   "version": "3.8.10"
  },
  "orig_nbformat": 4
 },
 "nbformat": 4,
 "nbformat_minor": 2
}
